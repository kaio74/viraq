{
 "cells": [
  {
   "cell_type": "code",
   "execution_count": 80,
   "metadata": {},
   "outputs": [],
   "source": [
    "import os"
   ]
  },
  {
   "cell_type": "code",
   "execution_count": 82,
   "metadata": {},
   "outputs": [
    {
     "name": "stdout",
     "output_type": "stream",
     "text": [
      "\n",
      "2019-10-08T12:37:58 prefetch.2.8.2: 1) 'SRR7946391' is found locally\n",
      "2019-10-08T12:37:58 prefetch.2.8.2: 'SRR7946391' has 0 unresolved dependencies\n"
     ]
    }
   ],
   "source": [
    "# define name of SRA file\n",
    "SRAname='SRR7946391'\n",
    "\n",
    "#Get file from SRA accession\n",
    "!prefetch $SRAname"
   ]
  },
  {
   "cell_type": "code",
   "execution_count": null,
   "metadata": {},
   "outputs": [],
   "source": [
    "ls -sh"
   ]
  },
  {
   "cell_type": "code",
   "execution_count": 122,
   "metadata": {},
   "outputs": [],
   "source": [
    "#setting up directories\n",
    "!mkdir -p QC\n",
    "#input file directory\n",
    "SRAfiles='ncbi/public/sra'\n",
    "#quality check path\n",
    "QC1_sub='QC/'+SRAname+'_sub'"
   ]
  },
  {
   "cell_type": "code",
   "execution_count": 107,
   "metadata": {},
   "outputs": [
    {
     "name": "stdout",
     "output_type": "stream",
     "text": [
      "Read 85711 spots for SRR7946391\r\n",
      "Written 85711 spots for SRR7946391\r\n"
     ]
    }
   ],
   "source": [
    "#convert to fastq\n",
    "os.chdir(SRAfiles)\n",
    "!fastq-dump $SRAname"
   ]
  },
  {
   "cell_type": "code",
   "execution_count": 115,
   "metadata": {},
   "outputs": [
    {
     "name": "stdout",
     "output_type": "stream",
     "text": [
      "INFO:bokeh.io.state:Session output file 'Assembly_tests/quality_check/raw_data/SRR7946391/nanoQC.html' already exists, will be overwritten.\r\n"
     ]
    }
   ],
   "source": [
    "os.chdir('/home/jovyan')\n",
    "fastqfile=SRAfiles+'/'+SRAname +'.fastq'\n",
    "#subsampling\n",
    "subsample=SRAfiles+'/'+SRAname+'_sub.fq.gz'\n",
    "!seqtk sample $fastqfile 5000 | gzip > $subsample\n",
    "!nanoQC -o $QC1_sub $subsample"
   ]
  },
  {
   "cell_type": "code",
   "execution_count": 118,
   "metadata": {},
   "outputs": [
    {
     "data": {
      "text/html": [
       "\n",
       "        <iframe\n",
       "            width=\"900\"\n",
       "            height=\"900\"\n",
       "            src=\"Assembly_tests/quality_check/raw_data/SRR7946391_sub/nanoQC.html\"\n",
       "            frameborder=\"0\"\n",
       "            allowfullscreen\n",
       "        ></iframe>\n",
       "        "
      ],
      "text/plain": [
       "<IPython.lib.display.IFrame at 0x7f989c096c50>"
      ]
     },
     "execution_count": 118,
     "metadata": {},
     "output_type": "execute_result"
    }
   ],
   "source": [
    "from IPython.display import IFrame\n",
    "IFrame(src=QC1_sub +'/nanoQC.html', width=900, height=900)"
   ]
  },
  {
   "cell_type": "code",
   "execution_count": null,
   "metadata": {},
   "outputs": [],
   "source": [
    "# do taxonomic assessment"
   ]
  },
  {
   "cell_type": "code",
   "execution_count": 63,
   "metadata": {},
   "outputs": [
    {
     "name": "stdout",
     "output_type": "stream",
     "text": [
      "13:47:19 Reading database\n",
      " Reading taxonomic tree from file kaiju/nodes.dmp\n",
      " Reading index from file kaiju/refseq/kaiju_db_refseq.fmi\n",
      "Output file: Assembly_tests/kaiju_results/SRR7946391\n",
      "13:54:43 Start classification using 8 threads.\n",
      "13:56:31 Finished.\n"
     ]
    }
   ],
   "source": [
    "kaijudb='kaiju_db_refseq.fmi'\n",
    "kaijudbpath='kaiju/refseq/'+kaijudb\n",
    "kaijuresults= 'Assembly_tests/kaiju_results/'+SRAname\n",
    "kronaresults= 'Assembly_tests/kaiju_results/'+SRAname+'_Krona'\n",
    "kronahtml='Assembly_tests/kaiju_results/'+SRAname+'_Krona.html'\n",
    "\n",
    "!kaiju -t kaiju/nodes.dmp -f $kaijudbpath -i $fastqfile -z 8 -a greedy -e 5 -v -o $kaijuresults\n",
    "!kaiju2krona -t kaiju/nodes.dmp -n kaiju/names.dmp -i $kaijuresults -o $kronaresults\n",
    "!ktImportText -o $kronahtml $kronaresults"
   ]
  },
  {
   "cell_type": "code",
   "execution_count": 120,
   "metadata": {},
   "outputs": [
    {
     "name": "stdout",
     "output_type": "stream",
     "text": [
      "15:23:25 Reading database\n",
      " Reading taxonomic tree from file kaiju/nodes.dmp\n",
      " Reading index from file kaiju/refseq/kaiju_db_refseq.fmi\n",
      "Output file: Assembly_tests/kaiju_results/SRR7946391_sub\n",
      "15:29:41 Start classification using 8 threads.\n",
      "15:29:47 Finished.\n"
     ]
    }
   ],
   "source": [
    "kaijuresults_sub= 'Assembly_tests/kaiju_results/'+SRAname+'_sub'\n",
    "kronaresults_sub= 'Assembly_tests/kaiju_results/'+SRAname+'_Krona_sub'\n",
    "kronasubhtml='Assembly_tests/kaiju_results/'+SRAname+'_Krona_sub.html'\n",
    "\n",
    "!kaiju -t kaiju/nodes.dmp -f $kaijudbpath -i $subsample -z 8 -a greedy -e 5 -v -o $kaijuresults_sub\n",
    "!kaiju2krona -t kaiju/nodes.dmp -n kaiju/names.dmp -i $kaijuresults_sub -o $kronaresults_sub\n",
    "!ktImportText -o $kronasubhtml $kronaresults_sub"
   ]
  },
  {
   "cell_type": "code",
   "execution_count": 124,
   "metadata": {},
   "outputs": [],
   "source": [
    "#can test with smaller virus database to run faster\n",
    "kaijudb2='kaiju_db_viruses.fmi'\n",
    "kaijudbpath2='kaiju/kaijudb/viruses'+'/'+kaijudb2\n",
    "\n",
    "kaijuresults_sub2= 'Assembly_tests/kaiju_results/'+SRAname+'_sub_viralref'\n",
    "kronaresults_sub2= 'Assembly_tests/kaiju_results/'+SRAname+'_Krona_sub_viralref'\n",
    "kronasub2html='Assembly_tests/kaiju_results/'+SRAname+'_Krona_sub_viralref.html'\n",
    "\n",
    "!kaiju -t kaiju/kaijudb/nodes.dmp -f $kaijudbpath2 -i $subsample -z 8 -a greedy -e 5 -v -o $kaijuresults_sub2\n",
    "!kaiju2krona -t kaiju/kaijudb/nodes.dmp -n kaiju/kaijudb/names.dmp -i $kaijuresults_sub2 -o $kronaresults_sub2\n",
    "!ktImportText -o $kronasub2html $kronaresults_sub2"
   ]
  },
  {
   "cell_type": "code",
   "execution_count": 135,
   "metadata": {},
   "outputs": [
    {
     "data": {
      "text/html": [
       "\n",
       "        <iframe\n",
       "            width=\"900\"\n",
       "            height=\"900\"\n",
       "            src=\"Assembly_tests/kaiju_results/SRR7946391_Krona_sub_viralref.html\"\n",
       "            frameborder=\"0\"\n",
       "            allowfullscreen\n",
       "        ></iframe>\n",
       "        "
      ],
      "text/plain": [
       "<IPython.lib.display.IFrame at 0x7f989c096390>"
      ]
     },
     "execution_count": 135,
     "metadata": {},
     "output_type": "execute_result"
    }
   ],
   "source": [
    "IFrame(src=kronasub2html, width=900, height=900)"
   ]
  },
  {
   "cell_type": "code",
   "execution_count": null,
   "metadata": {},
   "outputs": [],
   "source": [
    "kaiju2krona -t nodes.dmp -n names.dmp -i /home/kai/Assembly_tests/kaiju_results/SRR7946391 -o /home/kai/Assembly_tests/kaiju_results/SRR7946391_krona\n",
    "#switch to Krona environment:\n",
    "ktImportText -o /home/kai/Assembly_tests/kaiju_results/SRR7946391_krona.html /home/kai/Assembly_tests/kaiju_results/SRR7946391_krona\n",
    "#Add Taxon names to result table:\n",
    "kaiju-addTaxonNames -t nodes.dmp -n names.dmp -i /home/kai/Assembly_tests/kaiju_results/SRR7946391 -o /home/kai/Assembly_tests/kaiju_results/SRR7946391_names \n"
   ]
  }
 ],
 "metadata": {
  "kernelspec": {
   "display_name": "Python 3",
   "language": "python",
   "name": "python3"
  },
  "language_info": {
   "codemirror_mode": {
    "name": "ipython",
    "version": 3
   },
   "file_extension": ".py",
   "mimetype": "text/x-python",
   "name": "python",
   "nbconvert_exporter": "python",
   "pygments_lexer": "ipython3",
   "version": "3.6.6"
  }
 },
 "nbformat": 4,
 "nbformat_minor": 2
}
