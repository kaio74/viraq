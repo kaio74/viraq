{
 "cells": [
  {
   "cell_type": "code",
   "execution_count": 1,
   "metadata": {},
   "outputs": [],
   "source": [
    "import os"
   ]
  },
  {
   "cell_type": "code",
   "execution_count": 2,
   "metadata": {},
   "outputs": [
    {
     "name": "stdout",
     "output_type": "stream",
     "text": [
      "\n",
      "2019-10-11T15:57:10 prefetch.2.8.2: 1) Downloading 'SRR7946391'...\n",
      "2019-10-11T15:57:10 prefetch.2.8.2:  Downloading via https...\n",
      "2019-10-11T15:57:12 prefetch.2.8.2: 1) 'SRR7946391' was downloaded successfully\n",
      "2019-10-11T15:57:12 prefetch.2.8.2: 'SRR7946391' has 0 unresolved dependencies\n"
     ]
    }
   ],
   "source": [
    "# define name of SRA file\n",
    "SRAname='SRR7946391'\n",
    "\n",
    "#Get file from SRA accession\n",
    "!prefetch $SRAname"
   ]
  },
  {
   "cell_type": "code",
   "execution_count": 3,
   "metadata": {},
   "outputs": [
    {
     "name": "stdout",
     "output_type": "stream",
     "text": [
      "total 40K\n",
      "4.0K apt.txt          8.0K \u001b[0m\u001b[01;34mncbi\u001b[0m/      8.0K viraq_kaiju-Copy1.ipynb\n",
      "4.0K environment.yml  4.0K README.md   12K viraq_kaiju.ipynb\n"
     ]
    }
   ],
   "source": [
    "ls -sh"
   ]
  },
  {
   "cell_type": "code",
   "execution_count": 4,
   "metadata": {},
   "outputs": [],
   "source": [
    "#setting up directories\n",
    "!mkdir -p QC\n",
    "#input file directory\n",
    "SRAfiles='ncbi/public/sra'\n",
    "#quality check path\n",
    "QC1_sub='QC/'+SRAname+'_sub'"
   ]
  },
  {
   "cell_type": "code",
   "execution_count": 5,
   "metadata": {},
   "outputs": [
    {
     "name": "stdout",
     "output_type": "stream",
     "text": [
      "Read 85711 spots for SRR7946391\n",
      "Written 85711 spots for SRR7946391\n"
     ]
    }
   ],
   "source": [
    "#convert to fastq\n",
    "os.chdir(SRAfiles)\n",
    "!fastq-dump $SRAname"
   ]
  },
  {
   "cell_type": "code",
   "execution_count": 6,
   "metadata": {},
   "outputs": [],
   "source": [
    "os.chdir('/home/jovyan')\n",
    "fastqfile=SRAfiles+'/'+SRAname +'.fastq'\n",
    "#subsampling\n",
    "subsample=SRAfiles+'/'+SRAname+'_sub.fq.gz'\n",
    "!seqtk sample $fastqfile 5000 | gzip > $subsample\n",
    "!nanoQC -o $QC1_sub $subsample"
   ]
  },
  {
   "cell_type": "code",
   "execution_count": 7,
   "metadata": {},
   "outputs": [
    {
     "data": {
      "text/html": [
       "\n",
       "        <iframe\n",
       "            width=\"900\"\n",
       "            height=\"900\"\n",
       "            src=\"QC/SRR7946391_sub/nanoQC.html\"\n",
       "            frameborder=\"0\"\n",
       "            allowfullscreen\n",
       "        ></iframe>\n",
       "        "
      ],
      "text/plain": [
       "<IPython.lib.display.IFrame at 0x7f2de0dd2f28>"
      ]
     },
     "execution_count": 7,
     "metadata": {},
     "output_type": "execute_result"
    }
   ],
   "source": [
    "from IPython.display import IFrame\n",
    "IFrame(src=QC1_sub +'/nanoQC.html', width=900, height=900)"
   ]
  },
  {
   "cell_type": "code",
   "execution_count": null,
   "metadata": {},
   "outputs": [],
   "source": [
    "# do taxonomic assessment"
   ]
  },
  {
   "cell_type": "code",
   "execution_count": 1,
   "metadata": {},
   "outputs": [],
   "source": [
    "!mkdir -p kaiju/db\n",
    "cd kaiju/db\n",
    "!kaiju-makedb -s viruses"
   ]
  },
  {
   "cell_type": "code",
   "execution_count": 7,
   "metadata": {},
   "outputs": [
    {
     "name": "stdout",
     "output_type": "stream",
     "text": [
      "merged.dmp  names.dmp  nodes.dmp  \u001b[0m\u001b[01;31mtaxdump.tar.gz\u001b[0m  \u001b[34;42mviruses\u001b[0m/\n"
     ]
    }
   ],
   "source": [
    "os.chdir ('/home/jovyan')"
   ]
  },
  {
   "cell_type": "code",
   "execution_count": 124,
   "metadata": {},
   "outputs": [],
   "source": [
    "#can test with smaller virus database to run faster\n",
    "!mkdir kaiju_results\n",
    "kaijudb2='kaiju_db_viruses.fmi'\n",
    "kaijudbpath2='kaiju/db/viruses'+'/'+kaijudb2\n",
    "\n",
    "kaijuresults_sub2= 'kaiju_results/'+SRAname+'_sub_viralref'\n",
    "kronaresults_sub2= 'kaiju_results/'+SRAname+'_Krona_sub_viralref'\n",
    "kronasub2html='kaiju_results/'+SRAname+'_Krona_sub_viralref.html'\n",
    "\n",
    "!kaiju -t kaiju/db/nodes.dmp -f $kaijudbpath2 -i $subsample -z 8 -a greedy -e 5 -v -o $kaijuresults_sub2\n",
    "!kaiju2krona -t kaiju/kaijudb/nodes.dmp -n kaiju/kaijudb/names.dmp -i $kaijuresults_sub2 -o $kronaresults_sub2\n",
    "!ktImportText -o $kronasub2html $kronaresults_sub2"
   ]
  },
  {
   "cell_type": "code",
   "execution_count": 135,
   "metadata": {},
   "outputs": [
    {
     "data": {
      "text/html": [
       "\n",
       "        <iframe\n",
       "            width=\"900\"\n",
       "            height=\"900\"\n",
       "            src=\"Assembly_tests/kaiju_results/SRR7946391_Krona_sub_viralref.html\"\n",
       "            frameborder=\"0\"\n",
       "            allowfullscreen\n",
       "        ></iframe>\n",
       "        "
      ],
      "text/plain": [
       "<IPython.lib.display.IFrame at 0x7f989c096390>"
      ]
     },
     "execution_count": 135,
     "metadata": {},
     "output_type": "execute_result"
    }
   ],
   "source": [
    "IFrame(src=kronasub2html, width=900, height=900)"
   ]
  },
  {
   "cell_type": "code",
   "execution_count": null,
   "metadata": {},
   "outputs": [],
   "source": [
    "kaiju2krona -t nodes.dmp -n names.dmp -i /home/kai/Assembly_tests/kaiju_results/SRR7946391 -o /home/kai/Assembly_tests/kaiju_results/SRR7946391_krona\n",
    "#switch to Krona environment:\n",
    "ktImportText -o /home/kai/Assembly_tests/kaiju_results/SRR7946391_krona.html /home/kai/Assembly_tests/kaiju_results/SRR7946391_krona\n",
    "#Add Taxon names to result table:\n",
    "kaiju-addTaxonNames -t nodes.dmp -n names.dmp -i /home/kai/Assembly_tests/kaiju_results/SRR7946391 -o /home/kai/Assembly_tests/kaiju_results/SRR7946391_names \n"
   ]
  }
 ],
 "metadata": {
  "kernelspec": {
   "display_name": "Python 3",
   "language": "python",
   "name": "python3"
  },
  "language_info": {
   "codemirror_mode": {
    "name": "ipython",
    "version": 3
   },
   "file_extension": ".py",
   "mimetype": "text/x-python",
   "name": "python",
   "nbconvert_exporter": "python",
   "pygments_lexer": "ipython3",
   "version": "3.7.3"
  }
 },
 "nbformat": 4,
 "nbformat_minor": 4
}
